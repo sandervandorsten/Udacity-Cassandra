{
 "cells": [
  {
   "cell_type": "markdown",
   "metadata": {
    "editable": true
   },
   "source": [
    "# Cassandra database population for Sparkify\n",
    "\n",
    "This jupyter notebook loads Sparkify user data in from a CSV an creates 3 tables that can be used for analytical purposes. "
   ]
  },
  {
   "cell_type": "code",
   "execution_count": 1,
   "metadata": {
    "editable": true
   },
   "outputs": [],
   "source": [
    "import pandas as pd\n",
    "import cassandra\n",
    "import re\n",
    "import os\n",
    "import glob\n",
    "import numpy as np\n",
    "import json\n",
    "import csv"
   ]
  },
  {
   "cell_type": "markdown",
   "metadata": {
    "editable": true
   },
   "source": [
    "#### Creating a Cluster"
   ]
  },
  {
   "cell_type": "code",
   "execution_count": 2,
   "metadata": {
    "editable": true
   },
   "outputs": [],
   "source": [
    "# This should make a connection to a Cassandra instance your local machine \n",
    "# (127.0.0.1)\n",
    "\n",
    "from cassandra.cluster import Cluster\n",
    "cluster = Cluster()\n",
    "\n",
    "# To establish connection and begin executing queries, need a session\n",
    "session = cluster.connect()\n",
    "\n",
    "# Create KeySpace\n",
    "try:\n",
    "    session.execute(\"\"\"\n",
    "        CREATE KEYSPACE IF NOT EXISTS sparkify\n",
    "        WITH REPLICATION = {\n",
    "            'class': 'SimpleStrategy',\n",
    "            'replication_factor': 1\n",
    "        }\n",
    "        \"\"\")\n",
    "except Exception as e:\n",
    "    print(e)\n",
    "    \n",
    "# Set KEYSPACE to the keyspace specified above\n",
    "session.set_keyspace(\"sparkify\")\n",
    "\n",
    "# Load in the data \n",
    "data = pd.read_csv('event_datafile_new.csv')"
   ]
  },
  {
   "cell_type": "markdown",
   "metadata": {
    "editable": true
   },
   "source": [
    "# Table 1: Items in Session\n",
    "\n",
    "Should allow queries like: \n",
    "- Give me the artist, song title and song's length in the music app history that was heard during sessionId = 338, and itemInSession  = 4\n"
   ]
  },
  {
   "cell_type": "code",
   "execution_count": 3,
   "metadata": {
    "editable": true
   },
   "outputs": [
    {
     "name": "stdout",
     "output_type": "stream",
     "text": [
      "Row(sessionid=338, iteminsession=4, artist='Faithless', length=Decimal('495.3073'), song='Music Matters (Mark Knight Dub)')\n"
     ]
    }
   ],
   "source": [
    "# drop table if it already exists\n",
    "session.execute(\"\"\"\n",
    "    DROP TABLE IF EXISTS item_in_session_table\n",
    "\"\"\")\n",
    "\n",
    "# create the table\n",
    "session.execute(\"\"\"\n",
    "    CREATE TABLE IF NOT EXISTS item_in_session_table \n",
    "    (\n",
    "        sessionId int,\n",
    "        itemInSession int,\n",
    "        artist text,\n",
    "        song text,\n",
    "        length decimal,\n",
    "        PRIMARY KEY (sessionId, itemInSession)\n",
    "    )\n",
    "\"\"\")\n",
    "\n",
    "# insert data into table\n",
    "for i, row in data.iterrows():\n",
    "    query = 'INSERT INTO item_in_session_table (sessionId, itemInSession, artist, song, length) VALUES (%s, %s, %s, %s, %s)'\n",
    "    session.execute(query, (row['sessionId'], row['itemInSession'], row['artist'], row['song'], row['length']))\n",
    "\n",
    "# verify the data was entered into the table\n",
    "result = session.execute(\"SELECT * FROM item_in_session_table WHERE sessionId=338 AND itemInSession=4\")\n",
    "for row in result:\n",
    "    print(row)"
   ]
  },
  {
   "cell_type": "markdown",
   "metadata": {
    "editable": true
   },
   "source": [
    "# Table 2: User session history\n",
    "\n",
    "This table should provide answers for queries like:\n",
    "- Give me only the name of artist, song (sorted by itemInSession) and user (first and last name) for userid = 10, sessionid = 182\n"
   ]
  },
  {
   "cell_type": "code",
   "execution_count": 4,
   "metadata": {
    "editable": true
   },
   "outputs": [
    {
     "name": "stdout",
     "output_type": "stream",
     "text": [
      "Row(userid=10, sessionid=182, iteminsession=0, artist='Down To The Bone', firstname='Sylvie', lastname='Cruz', song=\"Keep On Keepin' On\")\n",
      "Row(userid=10, sessionid=182, iteminsession=1, artist='Three Drives', firstname='Sylvie', lastname='Cruz', song='Greece 2000')\n",
      "Row(userid=10, sessionid=182, iteminsession=2, artist='Sebastien Tellier', firstname='Sylvie', lastname='Cruz', song='Kilometer')\n",
      "Row(userid=10, sessionid=182, iteminsession=3, artist='Lonnie Gordon', firstname='Sylvie', lastname='Cruz', song='Catch You Baby (Steve Pitron & Max Sanna Radio Edit)')\n"
     ]
    }
   ],
   "source": [
    "\n",
    "# Drop table if it exists\n",
    "session.execute(\"\"\"\n",
    "    DROP TABLE IF EXISTS user_session_history\n",
    "\"\"\")\n",
    "\n",
    "# Create table for query \n",
    "session.execute(\"\"\"\n",
    "    CREATE TABLE IF NOT EXISTS user_session_history \n",
    "    (\n",
    "        userId int,\n",
    "        sessionId int,\n",
    "        itemInSession int,\n",
    "        song text,\n",
    "        artist text,\n",
    "        firstName text,\n",
    "        lastName text,\n",
    "        PRIMARY KEY (userId, sessionId, itemInSession)\n",
    "    )\n",
    "\"\"\")\n",
    "\n",
    "# insert data into table\n",
    "for i, row in data.iterrows():\n",
    "    query2 = \"\"\"\n",
    "        INSERT INTO user_session_history (userId, sessionId, itemInSession, song, artist, firstName, lastName) \n",
    "        VALUES (%s, %s, %s, %s, %s, %s, %s)\n",
    "    \"\"\"\n",
    "    session.execute(query2, (row['userId'], row['sessionId'], row['itemInSession'], row['song'], row['artist'], row['firstName'], row['lastName']))\n",
    "    \n",
    "\n",
    "# verify the data was entered into the table\n",
    "result = session.execute(\"SELECT * FROM user_session_history WHERE sessionId=182 AND userId=10\", timeout=None)\n",
    "for row in result:\n",
    "    print(row)"
   ]
  },
  {
   "cell_type": "markdown",
   "metadata": {
    "editable": true
   },
   "source": [
    "# Table 3: Who listened to which song?\n",
    "\n",
    "This table should be able to answer questions like: \n",
    " - give me every user name (first and last) in my music app history who listened to the song 'All Hands Against His Own'"
   ]
  },
  {
   "cell_type": "code",
   "execution_count": 5,
   "metadata": {
    "editable": true
   },
   "outputs": [
    {
     "name": "stdout",
     "output_type": "stream",
     "text": [
      "Row(song='All Hands Against His Own', firstname='Jacqueline', lastname='Lynch')\n",
      "Row(song='All Hands Against His Own', firstname='Sara', lastname='Johnson')\n",
      "Row(song='All Hands Against His Own', firstname='Tegan', lastname='Levine')\n"
     ]
    }
   ],
   "source": [
    "\n",
    "# drop table if exists\n",
    "session.execute(\"\"\"\n",
    "    DROP TABLE IF EXISTS who_listened_to_which_song\n",
    "\"\"\")\n",
    "\n",
    "# create table with required columns\n",
    "session.execute(\"\"\"\n",
    "    CREATE TABLE IF NOT EXISTS who_listened_to_which_song\n",
    "    (\n",
    "        song text,\n",
    "        firstName text,\n",
    "        lastName text,\n",
    "        PRIMARY KEY (song, firstName, lastName)\n",
    "    )\n",
    "\"\"\")\n",
    "\n",
    "# insert data into table\n",
    "for i, row in data.iterrows():\n",
    "    query3 = \"\"\"\n",
    "        INSERT INTO who_listened_to_which_song (song, firstName, lastName) \n",
    "        VALUES (%s, %s, %s)\n",
    "    \"\"\"\n",
    "    session.execute(query3, (row['song'], row['firstName'], row['lastName']))\n",
    "    \n",
    "# verify data has been added correctly\n",
    "result = session.execute(\"SELECT * FROM who_listened_to_which_song WHERE song='All Hands Against His Own'\", timeout=None)\n",
    "for row in result:\n",
    "    print(row)"
   ]
  },
  {
   "cell_type": "markdown",
   "metadata": {
    "editable": true
   },
   "source": [
    "### Drop the tables before closing out the sessions"
   ]
  },
  {
   "cell_type": "code",
   "execution_count": 6,
   "metadata": {
    "editable": true
   },
   "outputs": [
    {
     "data": {
      "text/plain": [
       "<cassandra.cluster.ResultSet at 0x7f8f949ce278>"
      ]
     },
     "execution_count": 6,
     "metadata": {},
     "output_type": "execute_result"
    }
   ],
   "source": [
    "session.execute(\"DROP TABLE IF EXISTS item_in_session_table\")\n",
    "session.execute(\"DROP TABLE IF EXISTS user_session_history\")\n",
    "session.execute(\"DROP TABLE IF EXISTS table_query3\")"
   ]
  },
  {
   "cell_type": "markdown",
   "metadata": {
    "editable": true
   },
   "source": [
    "### Close the session and cluster connection¶"
   ]
  },
  {
   "cell_type": "code",
   "execution_count": 7,
   "metadata": {
    "editable": true
   },
   "outputs": [],
   "source": [
    "session.shutdown()\n",
    "cluster.shutdown()"
   ]
  }
 ],
 "metadata": {
  "kernelspec": {
   "display_name": "Python 3",
   "language": "python",
   "name": "python3"
  },
  "language_info": {
   "codemirror_mode": {
    "name": "ipython",
    "version": 3
   },
   "file_extension": ".py",
   "mimetype": "text/x-python",
   "name": "python",
   "nbconvert_exporter": "python",
   "pygments_lexer": "ipython3",
   "version": "3.6.3"
  }
 },
 "nbformat": 4,
 "nbformat_minor": 4
}
